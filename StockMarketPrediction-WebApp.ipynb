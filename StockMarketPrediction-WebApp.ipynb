{
 "cells": [
  {
   "cell_type": "code",
   "execution_count": 2,
   "id": "3b2ba2ee-6e24-4430-b8df-1d52fa8505cb",
   "metadata": {},
   "outputs": [],
   "source": [
    "import numpy as np\n",
    "import pandas as pd\n",
    "import matplotlib.pyplot as plt\n",
    "import yfinance as yf\n",
    "import datetime"
   ]
  },
  {
   "cell_type": "code",
   "execution_count": 3,
   "id": "da00acf4-fce5-4c62-ad6b-58e393ee6d78",
   "metadata": {},
   "outputs": [
    {
     "name": "stdout",
     "output_type": "stream",
     "text": [
      "[*********************100%%**********************]  1 of 1 completed\n"
     ]
    },
    {
     "data": {
      "text/html": [
       "<div>\n",
       "<style scoped>\n",
       "    .dataframe tbody tr th:only-of-type {\n",
       "        vertical-align: middle;\n",
       "    }\n",
       "\n",
       "    .dataframe tbody tr th {\n",
       "        vertical-align: top;\n",
       "    }\n",
       "\n",
       "    .dataframe thead th {\n",
       "        text-align: right;\n",
       "    }\n",
       "</style>\n",
       "<table border=\"1\" class=\"dataframe\">\n",
       "  <thead>\n",
       "    <tr style=\"text-align: right;\">\n",
       "      <th></th>\n",
       "      <th>Open</th>\n",
       "      <th>High</th>\n",
       "      <th>Low</th>\n",
       "      <th>Close</th>\n",
       "      <th>Adj Close</th>\n",
       "      <th>Volume</th>\n",
       "    </tr>\n",
       "    <tr>\n",
       "      <th>Date</th>\n",
       "      <th></th>\n",
       "      <th></th>\n",
       "      <th></th>\n",
       "      <th></th>\n",
       "      <th></th>\n",
       "      <th></th>\n",
       "    </tr>\n",
       "  </thead>\n",
       "  <tbody>\n",
       "    <tr>\n",
       "      <th>2010-01-04</th>\n",
       "      <td>7.622500</td>\n",
       "      <td>7.660714</td>\n",
       "      <td>7.585000</td>\n",
       "      <td>7.643214</td>\n",
       "      <td>6.478998</td>\n",
       "      <td>493729600</td>\n",
       "    </tr>\n",
       "    <tr>\n",
       "      <th>2010-01-05</th>\n",
       "      <td>7.664286</td>\n",
       "      <td>7.699643</td>\n",
       "      <td>7.616071</td>\n",
       "      <td>7.656429</td>\n",
       "      <td>6.490201</td>\n",
       "      <td>601904800</td>\n",
       "    </tr>\n",
       "    <tr>\n",
       "      <th>2010-01-06</th>\n",
       "      <td>7.656429</td>\n",
       "      <td>7.686786</td>\n",
       "      <td>7.526786</td>\n",
       "      <td>7.534643</td>\n",
       "      <td>6.386965</td>\n",
       "      <td>552160000</td>\n",
       "    </tr>\n",
       "    <tr>\n",
       "      <th>2010-01-07</th>\n",
       "      <td>7.562500</td>\n",
       "      <td>7.571429</td>\n",
       "      <td>7.466071</td>\n",
       "      <td>7.520714</td>\n",
       "      <td>6.375156</td>\n",
       "      <td>477131200</td>\n",
       "    </tr>\n",
       "    <tr>\n",
       "      <th>2010-01-08</th>\n",
       "      <td>7.510714</td>\n",
       "      <td>7.571429</td>\n",
       "      <td>7.466429</td>\n",
       "      <td>7.570714</td>\n",
       "      <td>6.417542</td>\n",
       "      <td>447610800</td>\n",
       "    </tr>\n",
       "  </tbody>\n",
       "</table>\n",
       "</div>"
      ],
      "text/plain": [
       "                Open      High       Low     Close  Adj Close     Volume\n",
       "Date                                                                    \n",
       "2010-01-04  7.622500  7.660714  7.585000  7.643214   6.478998  493729600\n",
       "2010-01-05  7.664286  7.699643  7.616071  7.656429   6.490201  601904800\n",
       "2010-01-06  7.656429  7.686786  7.526786  7.534643   6.386965  552160000\n",
       "2010-01-07  7.562500  7.571429  7.466071  7.520714   6.375156  477131200\n",
       "2010-01-08  7.510714  7.571429  7.466429  7.570714   6.417542  447610800"
      ]
     },
     "execution_count": 3,
     "metadata": {},
     "output_type": "execute_result"
    }
   ],
   "source": [
    "start = datetime.datetime(2010, 1, 1)\n",
    "end = datetime.datetime(2024, 1, 1)\n",
    "\n",
    "df = yf.download('AAPL', start=start, end=end)\n",
    "df.head()"
   ]
  },
  {
   "cell_type": "code",
   "execution_count": 4,
   "id": "e441e9c6-8b7c-43ba-b16f-84f3f204eed3",
   "metadata": {},
   "outputs": [
    {
     "data": {
      "text/html": [
       "<div>\n",
       "<style scoped>\n",
       "    .dataframe tbody tr th:only-of-type {\n",
       "        vertical-align: middle;\n",
       "    }\n",
       "\n",
       "    .dataframe tbody tr th {\n",
       "        vertical-align: top;\n",
       "    }\n",
       "\n",
       "    .dataframe thead th {\n",
       "        text-align: right;\n",
       "    }\n",
       "</style>\n",
       "<table border=\"1\" class=\"dataframe\">\n",
       "  <thead>\n",
       "    <tr style=\"text-align: right;\">\n",
       "      <th></th>\n",
       "      <th>Open</th>\n",
       "      <th>High</th>\n",
       "      <th>Low</th>\n",
       "      <th>Close</th>\n",
       "      <th>Adj Close</th>\n",
       "      <th>Volume</th>\n",
       "    </tr>\n",
       "    <tr>\n",
       "      <th>Date</th>\n",
       "      <th></th>\n",
       "      <th></th>\n",
       "      <th></th>\n",
       "      <th></th>\n",
       "      <th></th>\n",
       "      <th></th>\n",
       "    </tr>\n",
       "  </thead>\n",
       "  <tbody>\n",
       "    <tr>\n",
       "      <th>2023-12-22</th>\n",
       "      <td>195.179993</td>\n",
       "      <td>195.410004</td>\n",
       "      <td>192.970001</td>\n",
       "      <td>193.600006</td>\n",
       "      <td>193.600006</td>\n",
       "      <td>37122800</td>\n",
       "    </tr>\n",
       "    <tr>\n",
       "      <th>2023-12-26</th>\n",
       "      <td>193.610001</td>\n",
       "      <td>193.889999</td>\n",
       "      <td>192.830002</td>\n",
       "      <td>193.050003</td>\n",
       "      <td>193.050003</td>\n",
       "      <td>28919300</td>\n",
       "    </tr>\n",
       "    <tr>\n",
       "      <th>2023-12-27</th>\n",
       "      <td>192.490005</td>\n",
       "      <td>193.500000</td>\n",
       "      <td>191.089996</td>\n",
       "      <td>193.149994</td>\n",
       "      <td>193.149994</td>\n",
       "      <td>48087700</td>\n",
       "    </tr>\n",
       "    <tr>\n",
       "      <th>2023-12-28</th>\n",
       "      <td>194.139999</td>\n",
       "      <td>194.660004</td>\n",
       "      <td>193.169998</td>\n",
       "      <td>193.580002</td>\n",
       "      <td>193.580002</td>\n",
       "      <td>34049900</td>\n",
       "    </tr>\n",
       "    <tr>\n",
       "      <th>2023-12-29</th>\n",
       "      <td>193.899994</td>\n",
       "      <td>194.399994</td>\n",
       "      <td>191.729996</td>\n",
       "      <td>192.529999</td>\n",
       "      <td>192.529999</td>\n",
       "      <td>42628800</td>\n",
       "    </tr>\n",
       "  </tbody>\n",
       "</table>\n",
       "</div>"
      ],
      "text/plain": [
       "                  Open        High         Low       Close   Adj Close  \\\n",
       "Date                                                                     \n",
       "2023-12-22  195.179993  195.410004  192.970001  193.600006  193.600006   \n",
       "2023-12-26  193.610001  193.889999  192.830002  193.050003  193.050003   \n",
       "2023-12-27  192.490005  193.500000  191.089996  193.149994  193.149994   \n",
       "2023-12-28  194.139999  194.660004  193.169998  193.580002  193.580002   \n",
       "2023-12-29  193.899994  194.399994  191.729996  192.529999  192.529999   \n",
       "\n",
       "              Volume  \n",
       "Date                  \n",
       "2023-12-22  37122800  \n",
       "2023-12-26  28919300  \n",
       "2023-12-27  48087700  \n",
       "2023-12-28  34049900  \n",
       "2023-12-29  42628800  "
      ]
     },
     "execution_count": 4,
     "metadata": {},
     "output_type": "execute_result"
    }
   ],
   "source": [
    "df.tail()"
   ]
  },
  {
   "cell_type": "code",
   "execution_count": 5,
   "id": "f8c46978-1264-493d-b351-6c93b957ce5f",
   "metadata": {},
   "outputs": [],
   "source": [
    "df = df.reset_index()"
   ]
  },
  {
   "cell_type": "code",
   "execution_count": 6,
   "id": "a096848c-b1f3-458c-912b-56076053e27d",
   "metadata": {},
   "outputs": [
    {
     "data": {
      "text/html": [
       "<div>\n",
       "<style scoped>\n",
       "    .dataframe tbody tr th:only-of-type {\n",
       "        vertical-align: middle;\n",
       "    }\n",
       "\n",
       "    .dataframe tbody tr th {\n",
       "        vertical-align: top;\n",
       "    }\n",
       "\n",
       "    .dataframe thead th {\n",
       "        text-align: right;\n",
       "    }\n",
       "</style>\n",
       "<table border=\"1\" class=\"dataframe\">\n",
       "  <thead>\n",
       "    <tr style=\"text-align: right;\">\n",
       "      <th></th>\n",
       "      <th>Date</th>\n",
       "      <th>Open</th>\n",
       "      <th>High</th>\n",
       "      <th>Low</th>\n",
       "      <th>Close</th>\n",
       "      <th>Adj Close</th>\n",
       "      <th>Volume</th>\n",
       "    </tr>\n",
       "  </thead>\n",
       "  <tbody>\n",
       "    <tr>\n",
       "      <th>0</th>\n",
       "      <td>2010-01-04</td>\n",
       "      <td>7.622500</td>\n",
       "      <td>7.660714</td>\n",
       "      <td>7.585000</td>\n",
       "      <td>7.643214</td>\n",
       "      <td>6.478998</td>\n",
       "      <td>493729600</td>\n",
       "    </tr>\n",
       "    <tr>\n",
       "      <th>1</th>\n",
       "      <td>2010-01-05</td>\n",
       "      <td>7.664286</td>\n",
       "      <td>7.699643</td>\n",
       "      <td>7.616071</td>\n",
       "      <td>7.656429</td>\n",
       "      <td>6.490201</td>\n",
       "      <td>601904800</td>\n",
       "    </tr>\n",
       "    <tr>\n",
       "      <th>2</th>\n",
       "      <td>2010-01-06</td>\n",
       "      <td>7.656429</td>\n",
       "      <td>7.686786</td>\n",
       "      <td>7.526786</td>\n",
       "      <td>7.534643</td>\n",
       "      <td>6.386965</td>\n",
       "      <td>552160000</td>\n",
       "    </tr>\n",
       "    <tr>\n",
       "      <th>3</th>\n",
       "      <td>2010-01-07</td>\n",
       "      <td>7.562500</td>\n",
       "      <td>7.571429</td>\n",
       "      <td>7.466071</td>\n",
       "      <td>7.520714</td>\n",
       "      <td>6.375156</td>\n",
       "      <td>477131200</td>\n",
       "    </tr>\n",
       "    <tr>\n",
       "      <th>4</th>\n",
       "      <td>2010-01-08</td>\n",
       "      <td>7.510714</td>\n",
       "      <td>7.571429</td>\n",
       "      <td>7.466429</td>\n",
       "      <td>7.570714</td>\n",
       "      <td>6.417542</td>\n",
       "      <td>447610800</td>\n",
       "    </tr>\n",
       "  </tbody>\n",
       "</table>\n",
       "</div>"
      ],
      "text/plain": [
       "        Date      Open      High       Low     Close  Adj Close     Volume\n",
       "0 2010-01-04  7.622500  7.660714  7.585000  7.643214   6.478998  493729600\n",
       "1 2010-01-05  7.664286  7.699643  7.616071  7.656429   6.490201  601904800\n",
       "2 2010-01-06  7.656429  7.686786  7.526786  7.534643   6.386965  552160000\n",
       "3 2010-01-07  7.562500  7.571429  7.466071  7.520714   6.375156  477131200\n",
       "4 2010-01-08  7.510714  7.571429  7.466429  7.570714   6.417542  447610800"
      ]
     },
     "execution_count": 6,
     "metadata": {},
     "output_type": "execute_result"
    }
   ],
   "source": [
    "df.head()"
   ]
  },
  {
   "cell_type": "code",
   "execution_count": 7,
   "id": "76fa5861-e9ae-4fbd-9082-929840991e16",
   "metadata": {},
   "outputs": [
    {
     "data": {
      "text/html": [
       "<div>\n",
       "<style scoped>\n",
       "    .dataframe tbody tr th:only-of-type {\n",
       "        vertical-align: middle;\n",
       "    }\n",
       "\n",
       "    .dataframe tbody tr th {\n",
       "        vertical-align: top;\n",
       "    }\n",
       "\n",
       "    .dataframe thead th {\n",
       "        text-align: right;\n",
       "    }\n",
       "</style>\n",
       "<table border=\"1\" class=\"dataframe\">\n",
       "  <thead>\n",
       "    <tr style=\"text-align: right;\">\n",
       "      <th></th>\n",
       "      <th>Open</th>\n",
       "      <th>High</th>\n",
       "      <th>Low</th>\n",
       "      <th>Close</th>\n",
       "      <th>Volume</th>\n",
       "    </tr>\n",
       "  </thead>\n",
       "  <tbody>\n",
       "    <tr>\n",
       "      <th>0</th>\n",
       "      <td>7.622500</td>\n",
       "      <td>7.660714</td>\n",
       "      <td>7.585000</td>\n",
       "      <td>7.643214</td>\n",
       "      <td>493729600</td>\n",
       "    </tr>\n",
       "    <tr>\n",
       "      <th>1</th>\n",
       "      <td>7.664286</td>\n",
       "      <td>7.699643</td>\n",
       "      <td>7.616071</td>\n",
       "      <td>7.656429</td>\n",
       "      <td>601904800</td>\n",
       "    </tr>\n",
       "    <tr>\n",
       "      <th>2</th>\n",
       "      <td>7.656429</td>\n",
       "      <td>7.686786</td>\n",
       "      <td>7.526786</td>\n",
       "      <td>7.534643</td>\n",
       "      <td>552160000</td>\n",
       "    </tr>\n",
       "    <tr>\n",
       "      <th>3</th>\n",
       "      <td>7.562500</td>\n",
       "      <td>7.571429</td>\n",
       "      <td>7.466071</td>\n",
       "      <td>7.520714</td>\n",
       "      <td>477131200</td>\n",
       "    </tr>\n",
       "    <tr>\n",
       "      <th>4</th>\n",
       "      <td>7.510714</td>\n",
       "      <td>7.571429</td>\n",
       "      <td>7.466429</td>\n",
       "      <td>7.570714</td>\n",
       "      <td>447610800</td>\n",
       "    </tr>\n",
       "  </tbody>\n",
       "</table>\n",
       "</div>"
      ],
      "text/plain": [
       "       Open      High       Low     Close     Volume\n",
       "0  7.622500  7.660714  7.585000  7.643214  493729600\n",
       "1  7.664286  7.699643  7.616071  7.656429  601904800\n",
       "2  7.656429  7.686786  7.526786  7.534643  552160000\n",
       "3  7.562500  7.571429  7.466071  7.520714  477131200\n",
       "4  7.510714  7.571429  7.466429  7.570714  447610800"
      ]
     },
     "execution_count": 7,
     "metadata": {},
     "output_type": "execute_result"
    }
   ],
   "source": [
    "df = df.drop(['Date', 'Adj Close'], axis=1)\n",
    "df.head()"
   ]
  },
  {
   "cell_type": "code",
   "execution_count": 8,
   "id": "ace3a813-f1ce-44ea-a508-2318cbe319f7",
   "metadata": {},
   "outputs": [
    {
     "data": {
      "text/plain": [
       "[<matplotlib.lines.Line2D at 0x1af5f2fa050>]"
      ]
     },
     "execution_count": 8,
     "metadata": {},
     "output_type": "execute_result"
    },
    {
     "data": {
      "image/png": "[encoded data removed]",
      "text/plain": [
       "<Figure size 640x480 with 1 Axes>"
      ]
     },
     "metadata": {},
     "output_type": "display_data"
    }
   ],
   "source": [
    "plt.plot(df.Close)"
   ]
  },
  {
   "cell_type": "code",
   "execution_count": 9,
   "id": "a4f71e10-854d-4b9a-a60a-cea3504de14e",
   "metadata": {},
   "outputs": [
    {
     "data": {
      "text/html": [
       "<div>\n",
       "<style scoped>\n",
       "    .dataframe tbody tr th:only-of-type {\n",
       "        vertical-align: middle;\n",
       "    }\n",
       "\n",
       "    .dataframe tbody tr th {\n",
       "        vertical-align: top;\n",
       "    }\n",
       "\n",
       "    .dataframe thead th {\n",
       "        text-align: right;\n",
       "    }\n",
       "</style>\n",
       "<table border=\"1\" class=\"dataframe\">\n",
       "  <thead>\n",
       "    <tr style=\"text-align: right;\">\n",
       "      <th></th>\n",
       "      <th>Open</th>\n",
       "      <th>High</th>\n",
       "      <th>Low</th>\n",
       "      <th>Close</th>\n",
       "      <th>Volume</th>\n",
       "    </tr>\n",
       "  </thead>\n",
       "  <tbody>\n",
       "    <tr>\n",
       "      <th>0</th>\n",
       "      <td>7.622500</td>\n",
       "      <td>7.660714</td>\n",
       "      <td>7.585000</td>\n",
       "      <td>7.643214</td>\n",
       "      <td>493729600</td>\n",
       "    </tr>\n",
       "    <tr>\n",
       "      <th>1</th>\n",
       "      <td>7.664286</td>\n",
       "      <td>7.699643</td>\n",
       "      <td>7.616071</td>\n",
       "      <td>7.656429</td>\n",
       "      <td>601904800</td>\n",
       "    </tr>\n",
       "    <tr>\n",
       "      <th>2</th>\n",
       "      <td>7.656429</td>\n",
       "      <td>7.686786</td>\n",
       "      <td>7.526786</td>\n",
       "      <td>7.534643</td>\n",
       "      <td>552160000</td>\n",
       "    </tr>\n",
       "    <tr>\n",
       "      <th>3</th>\n",
       "      <td>7.562500</td>\n",
       "      <td>7.571429</td>\n",
       "      <td>7.466071</td>\n",
       "      <td>7.520714</td>\n",
       "      <td>477131200</td>\n",
       "    </tr>\n",
       "    <tr>\n",
       "      <th>4</th>\n",
       "      <td>7.510714</td>\n",
       "      <td>7.571429</td>\n",
       "      <td>7.466429</td>\n",
       "      <td>7.570714</td>\n",
       "      <td>447610800</td>\n",
       "    </tr>\n",
       "    <tr>\n",
       "      <th>...</th>\n",
       "      <td>...</td>\n",
       "      <td>...</td>\n",
       "      <td>...</td>\n",
       "      <td>...</td>\n",
       "      <td>...</td>\n",
       "    </tr>\n",
       "    <tr>\n",
       "      <th>3517</th>\n",
       "      <td>195.179993</td>\n",
       "      <td>195.410004</td>\n",
       "      <td>192.970001</td>\n",
       "      <td>193.600006</td>\n",
       "      <td>37122800</td>\n",
       "    </tr>\n",
       "    <tr>\n",
       "      <th>3518</th>\n",
       "      <td>193.610001</td>\n",
       "      <td>193.889999</td>\n",
       "      <td>192.830002</td>\n",
       "      <td>193.050003</td>\n",
       "      <td>28919300</td>\n",
       "    </tr>\n",
       "    <tr>\n",
       "      <th>3519</th>\n",
       "      <td>192.490005</td>\n",
       "      <td>193.500000</td>\n",
       "      <td>191.089996</td>\n",
       "      <td>193.149994</td>\n",
       "      <td>48087700</td>\n",
       "    </tr>\n",
       "    <tr>\n",
       "      <th>3520</th>\n",
       "      <td>194.139999</td>\n",
       "      <td>194.660004</td>\n",
       "      <td>193.169998</td>\n",
       "      <td>193.580002</td>\n",
       "      <td>34049900</td>\n",
       "    </tr>\n",
       "    <tr>\n",
       "      <th>3521</th>\n",
       "      <td>193.899994</td>\n",
       "      <td>194.399994</td>\n",
       "      <td>191.729996</td>\n",
       "      <td>192.529999</td>\n",
       "      <td>42628800</td>\n",
       "    </tr>\n",
       "  </tbody>\n",
       "</table>\n",
       "<p>3522 rows × 5 columns</p>\n",
       "</div>"
      ],
      "text/plain": [
       "            Open        High         Low       Close     Volume\n",
       "0       7.622500    7.660714    7.585000    7.643214  493729600\n",
       "1       7.664286    7.699643    7.616071    7.656429  601904800\n",
       "2       7.656429    7.686786    7.526786    7.534643  552160000\n",
       "3       7.562500    7.571429    7.466071    7.520714  477131200\n",
       "4       7.510714    7.571429    7.466429    7.570714  447610800\n",
       "...          ...         ...         ...         ...        ...\n",
       "3517  195.179993  195.410004  192.970001  193.600006   37122800\n",
       "3518  193.610001  193.889999  192.830002  193.050003   28919300\n",
       "3519  192.490005  193.500000  191.089996  193.149994   48087700\n",
       "3520  194.139999  194.660004  193.169998  193.580002   34049900\n",
       "3521  193.899994  194.399994  191.729996  192.529999   42628800\n",
       "\n",
       "[3522 rows x 5 columns]"
      ]
     },
     "execution_count": 9,
     "metadata": {},
     "output_type": "execute_result"
    }
   ],
   "source": [
    "df"
   ]
  },
  {
   "cell_type": "code",
   "execution_count": 10,
   "id": "31c9f397-ce4e-4079-8147-24ff7570d364",
   "metadata": {},
   "outputs": [
    {
     "data": {
      "text/plain": [
       "0              NaN\n",
       "1              NaN\n",
       "2              NaN\n",
       "3              NaN\n",
       "4              NaN\n",
       "           ...    \n",
       "3517    181.768301\n",
       "3518    181.787101\n",
       "3519    181.898701\n",
       "3520    182.046001\n",
       "3521    182.173301\n",
       "Name: Close, Length: 3522, dtype: float64"
      ]
     },
     "execution_count": 10,
     "metadata": {},
     "output_type": "execute_result"
    }
   ],
   "source": [
    "ma100 = df.Close.rolling(100).mean()\n",
    "ma100"
   ]
  },
  {
   "cell_type": "code",
   "execution_count": 11,
   "id": "f1b747a4-19a5-44d7-8821-bd828df0281d",
   "metadata": {},
   "outputs": [
    {
     "data": {
      "text/plain": [
       "[<matplotlib.lines.Line2D at 0x1af5f427710>]"
      ]
     },
     "execution_count": 11,
     "metadata": {},
     "output_type": "execute_result"
    },
    {
     "data": {
      "image/png": "[encoded data removed]",
      "text/plain": [
       "<Figure size 1200x600 with 1 Axes>"
      ]
     },
     "metadata": {},
     "output_type": "display_data"
    }
   ],
   "source": [
    "plt.figure(figsize = (12,6))\n",
    "plt.plot(df.Close)\n",
    "plt.plot(ma100,'r')"
   ]
  },
  {
   "cell_type": "code",
   "execution_count": 12,
   "id": "276e115a-171e-44f4-98c8-5004075c2cd2",
   "metadata": {},
   "outputs": [
    {
     "data": {
      "text/plain": [
       "0              NaN\n",
       "1              NaN\n",
       "2              NaN\n",
       "3              NaN\n",
       "4              NaN\n",
       "           ...    \n",
       "3517    178.649100\n",
       "3518    178.871851\n",
       "3519    179.085250\n",
       "3520    179.290201\n",
       "3521    179.487900\n",
       "Name: Close, Length: 3522, dtype: float64"
      ]
     },
     "execution_count": 12,
     "metadata": {},
     "output_type": "execute_result"
    }
   ],
   "source": [
    "ma200 = df.Close.rolling(200).mean()\n",
    "ma200"
   ]
  },
  {
   "cell_type": "code",
   "execution_count": 13,
   "id": "8c848b08-dbc8-4c53-8ba5-64c41c6eed0c",
   "metadata": {},
   "outputs": [
    {
     "data": {
      "text/plain": [
       "[<matplotlib.lines.Line2D at 0x1af5f4c5fd0>]"
      ]
     },
     "execution_count": 13,
     "metadata": {},
     "output_type": "execute_result"
    },
    {
     "data": {
      "image/png": "[encoded data removed]",
      "text/plain": [
       "<Figure size 1200x600 with 1 Axes>"
      ]
     },
     "metadata": {},
     "output_type": "display_data"
    }
   ],
   "source": [
    "plt.figure(figsize = (12,6))\n",
    "plt.plot(df.Close)\n",
    "plt.plot(ma100,'r')\n",
    "plt.plot(ma200,'g')"
   ]
  },
  {
   "cell_type": "code",
   "execution_count": 14,
   "id": "88cd7823-851a-4193-803a-23d3b3daacf1",
   "metadata": {},
   "outputs": [
    {
     "data": {
      "text/plain": [
       "(3522, 5)"
      ]
     },
     "execution_count": 14,
     "metadata": {},
     "output_type": "execute_result"
    }
   ],
   "source": [
    "df.shape"
   ]
  },
  {
   "cell_type": "code",
   "execution_count": 15,
   "id": "e48c885a-7080-4c01-95f4-2a8abc4ddfff",
   "metadata": {},
   "outputs": [
    {
     "name": "stdout",
     "output_type": "stream",
     "text": [
      "(2465, 1)\n",
      "(1057, 1)\n"
     ]
    }
   ],
   "source": [
    "# Splitting Data into Training and Testing\n",
    "\n",
    "data_training = pd.DataFrame(df['Close'][0:int(len(df)*0.70)])\n",
    "data_testing = pd.DataFrame(df['Close'][int(len(df)*0.70):int(len(df))])\n",
    "\n",
    "print(data_training.shape)\n",
    "print(data_testing.shape)"
   ]
  },
  {
   "cell_type": "code",
   "execution_count": 16,
   "id": "bba4d06a-0ca7-4538-b428-84e47d2d085d",
   "metadata": {},
   "outputs": [
    {
     "data": {
      "text/html": [
       "<div>\n",
       "<style scoped>\n",
       "    .dataframe tbody tr th:only-of-type {\n",
       "        vertical-align: middle;\n",
       "    }\n",
       "\n",
       "    .dataframe tbody tr th {\n",
       "        vertical-align: top;\n",
       "    }\n",
       "\n",
       "    .dataframe thead th {\n",
       "        text-align: right;\n",
       "    }\n",
       "</style>\n",
       "<table border=\"1\" class=\"dataframe\">\n",
       "  <thead>\n",
       "    <tr style=\"text-align: right;\">\n",
       "      <th></th>\n",
       "      <th>Close</th>\n",
       "    </tr>\n",
       "  </thead>\n",
       "  <tbody>\n",
       "    <tr>\n",
       "      <th>0</th>\n",
       "      <td>7.643214</td>\n",
       "    </tr>\n",
       "    <tr>\n",
       "      <th>1</th>\n",
       "      <td>7.656429</td>\n",
       "    </tr>\n",
       "    <tr>\n",
       "      <th>2</th>\n",
       "      <td>7.534643</td>\n",
       "    </tr>\n",
       "    <tr>\n",
       "      <th>3</th>\n",
       "      <td>7.520714</td>\n",
       "    </tr>\n",
       "    <tr>\n",
       "      <th>4</th>\n",
       "      <td>7.570714</td>\n",
       "    </tr>\n",
       "  </tbody>\n",
       "</table>\n",
       "</div>"
      ],
      "text/plain": [
       "      Close\n",
       "0  7.643214\n",
       "1  7.656429\n",
       "2  7.534643\n",
       "3  7.520714\n",
       "4  7.570714"
      ]
     },
     "execution_count": 16,
     "metadata": {},
     "output_type": "execute_result"
    }
   ],
   "source": [
    "data_training.head()"
   ]
  },
  {
   "cell_type": "code",
   "execution_count": 17,
   "id": "d05a7599-e4fc-40e0-90b8-699d992efb2b",
   "metadata": {},
   "outputs": [
    {
     "data": {
      "text/html": [
       "<div>\n",
       "<style scoped>\n",
       "    .dataframe tbody tr th:only-of-type {\n",
       "        vertical-align: middle;\n",
       "    }\n",
       "\n",
       "    .dataframe tbody tr th {\n",
       "        vertical-align: top;\n",
       "    }\n",
       "\n",
       "    .dataframe thead th {\n",
       "        text-align: right;\n",
       "    }\n",
       "</style>\n",
       "<table border=\"1\" class=\"dataframe\">\n",
       "  <thead>\n",
       "    <tr style=\"text-align: right;\">\n",
       "      <th></th>\n",
       "      <th>Close</th>\n",
       "    </tr>\n",
       "  </thead>\n",
       "  <tbody>\n",
       "    <tr>\n",
       "      <th>2465</th>\n",
       "      <td>59.102501</td>\n",
       "    </tr>\n",
       "    <tr>\n",
       "      <th>2466</th>\n",
       "      <td>60.127499</td>\n",
       "    </tr>\n",
       "    <tr>\n",
       "      <th>2467</th>\n",
       "      <td>59.990002</td>\n",
       "    </tr>\n",
       "    <tr>\n",
       "      <th>2468</th>\n",
       "      <td>60.794998</td>\n",
       "    </tr>\n",
       "    <tr>\n",
       "      <th>2469</th>\n",
       "      <td>60.895000</td>\n",
       "    </tr>\n",
       "  </tbody>\n",
       "</table>\n",
       "</div>"
      ],
      "text/plain": [
       "          Close\n",
       "2465  59.102501\n",
       "2466  60.127499\n",
       "2467  59.990002\n",
       "2468  60.794998\n",
       "2469  60.895000"
      ]
     },
     "execution_count": 17,
     "metadata": {},
     "output_type": "execute_result"
    }
   ],
   "source": [
    "data_testing.head()"
   ]
  },
  {
   "cell_type": "code",
   "execution_count": 18,
   "id": "502d1f5a-4c72-4307-84c7-dbd8c1e1825f",
   "metadata": {},
   "outputs": [],
   "source": [
    "from sklearn.preprocessing import MinMaxScaler\n",
    "scaler = MinMaxScaler(feature_range=(0,1))"
   ]
  },
  {
   "cell_type": "code",
   "execution_count": 19,
   "id": "8c7ff015-4eea-462c-98eb-4d32f53b4855",
   "metadata": {},
   "outputs": [
    {
     "data": {
      "text/plain": [
       "array([[0.01502647],\n",
       "       [0.01527965],\n",
       "       [0.01294631],\n",
       "       ...,\n",
       "       [0.99573703],\n",
       "       [0.9911866 ],\n",
       "       [0.99554539]])"
      ]
     },
     "execution_count": 19,
     "metadata": {},
     "output_type": "execute_result"
    }
   ],
   "source": [
    "data_training_array = scaler.fit_transform(data_training)\n",
    "data_training_array"
   ]
  },
  {
   "cell_type": "code",
   "execution_count": 20,
   "id": "df63dcf0-f7da-4f88-813e-01de43e17f92",
   "metadata": {},
   "outputs": [],
   "source": [
    "x_train = []\n",
    "y_train = []\n",
    "\n",
    "for i in range(100, data_training_array.shape[0]):\n",
    "    x_train.append(data_training_array[i-100: i])\n",
    "    y_train.append(data_training_array[i, 0])\n",
    "\n",
    "x_train, y_train = np.array(x_train), np.array(y_train)"
   ]
  },
  {
   "cell_type": "markdown",
   "id": "ad8c3eb4-3804-4a65-876c-3a78ae1b19ef",
   "metadata": {},
   "source": [
    "### ML MODEL"
   ]
  },
  {
   "cell_type": "code",
   "execution_count": 21,
   "id": "c75c4e87-5fdf-420c-bbd5-c6b2c9216141",
   "metadata": {},
   "outputs": [
    {
     "name": "stdout",
     "output_type": "stream",
     "text": [
      "WARNING:tensorflow:From C:\\Users\\pulki\\AppData\\Local\\Programs\\Python\\Python311\\Lib\\site-packages\\keras\\src\\losses.py:2976: The name tf.losses.sparse_softmax_cross_entropy is deprecated. Please use tf.compat.v1.losses.sparse_softmax_cross_entropy instead.\n",
      "\n"
     ]
    }
   ],
   "source": [
    "from keras.layers import Dense, Dropout, LSTM\n",
    "from keras.models import Sequential"
   ]
  },
  {
   "cell_type": "code",
   "execution_count": 22,
   "id": "7a97c17e-60a6-4a7a-a990-bd8619389ec0",
   "metadata": {},
   "outputs": [
    {
     "name": "stdout",
     "output_type": "stream",
     "text": [
      "WARNING:tensorflow:From C:\\Users\\pulki\\AppData\\Local\\Programs\\Python\\Python311\\Lib\\site-packages\\keras\\src\\backend.py:873: The name tf.get_default_graph is deprecated. Please use tf.compat.v1.get_default_graph instead.\n",
      "\n"
     ]
    }
   ],
   "source": [
    "model = Sequential()\n",
    "\n",
    "#layer 1\n",
    "model.add(LSTM(units = 50, activation = 'relu', return_sequences = True, \n",
    "               input_shape = (x_train.shape[1],1)))\n",
    "model.add(Dropout(0.2))\n",
    "\n",
    "#layer 2\n",
    "model.add(LSTM(units = 60, activation = 'relu', return_sequences = True))\n",
    "model.add(Dropout(0.3))\n",
    "\n",
    "#layer 3\n",
    "model.add(LSTM(units = 80, activation = 'relu', return_sequences = True))\n",
    "model.add(Dropout(0.4))\n",
    "\n",
    "#layer 4\n",
    "model.add(LSTM(units = 120, activation = 'relu'))\n",
    "model.add(Dropout(0.5))\n",
    "\n",
    "model.add(Dense(units = 1))"
   ]
  },
  {
   "cell_type": "code",
   "execution_count": 23,
   "id": "0b6a7151-b079-499d-944d-099b7ea1ee77",
   "metadata": {},
   "outputs": [
    {
     "name": "stdout",
     "output_type": "stream",
     "text": [
      "Model: \"sequential\"\n",
      "_________________________________________________________________\n",
      " Layer (type)                Output Shape              Param #   \n",
      "=================================================================\n",
      " lstm (LSTM)                 (None, 100, 50)           10400     \n",
      "                                                                 \n",
      " dropout (Dropout)           (None, 100, 50)           0         \n",
      "                                                                 \n",
      " lstm_1 (LSTM)               (None, 100, 60)           26640     \n",
      "                                                                 \n",
      " dropout_1 (Dropout)         (None, 100, 60)           0         \n",
      "                                                                 \n",
      " lstm_2 (LSTM)               (None, 100, 80)           45120     \n",
      "                                                                 \n",
      " dropout_2 (Dropout)         (None, 100, 80)           0         \n",
      "                                                                 \n",
      " lstm_3 (LSTM)               (None, 120)               96480     \n",
      "                                                                 \n",
      " dropout_3 (Dropout)         (None, 120)               0         \n",
      "                                                                 \n",
      " dense (Dense)               (None, 1)                 121       \n",
      "                                                                 \n",
      "=================================================================\n",
      "Total params: 178761 (698.29 KB)\n",
      "Trainable params: 178761 (698.29 KB)\n",
      "Non-trainable params: 0 (0.00 Byte)\n",
      "_________________________________________________________________\n"
     ]
    }
   ],
   "source": [
    "model.summary()"
   ]
  },
  {
   "cell_type": "code",
   "execution_count": 24,
   "id": "06d63643-029d-4179-a71c-400adba58dba",
   "metadata": {},
   "outputs": [
    {
     "name": "stdout",
     "output_type": "stream",
     "text": [
      "WARNING:tensorflow:From C:\\Users\\pulki\\AppData\\Local\\Programs\\Python\\Python311\\Lib\\site-packages\\keras\\src\\optimizers\\__init__.py:309: The name tf.train.Optimizer is deprecated. Please use tf.compat.v1.train.Optimizer instead.\n",
      "\n",
      "Epoch 1/50\n",
      "WARNING:tensorflow:From C:\\Users\\pulki\\AppData\\Local\\Programs\\Python\\Python311\\Lib\\site-packages\\keras\\src\\utils\\tf_utils.py:492: The name tf.ragged.RaggedTensorValue is deprecated. Please use tf.compat.v1.ragged.RaggedTensorValue instead.\n",
      "\n",
      "74/74 [==============================] - 36s 322ms/step - loss: 0.0326\n",
      "Epoch 2/50\n",
      "74/74 [==============================] - 25s 338ms/step - loss: 0.0088\n",
      "Epoch 3/50\n",
      "74/74 [==============================] - 24s 327ms/step - loss: 0.0074\n",
      "Epoch 4/50\n",
      "74/74 [==============================] - 19s 262ms/step - loss: 0.0062\n",
      "Epoch 5/50\n",
      "74/74 [==============================] - 18s 243ms/step - loss: 0.0066\n",
      "Epoch 6/50\n",
      "74/74 [==============================] - 19s 253ms/step - loss: 0.0052\n",
      "Epoch 7/50\n",
      "74/74 [==============================] - 16s 220ms/step - loss: 0.0053\n",
      "Epoch 8/50\n",
      "74/74 [==============================] - 15s 209ms/step - loss: 0.0047\n",
      "Epoch 9/50\n",
      "74/74 [==============================] - 17s 230ms/step - loss: 0.0046\n",
      "Epoch 10/50\n",
      "74/74 [==============================] - 18s 237ms/step - loss: 0.0042\n",
      "Epoch 11/50\n",
      "74/74 [==============================] - 24s 332ms/step - loss: 0.0038\n",
      "Epoch 12/50\n",
      "74/74 [==============================] - 23s 308ms/step - loss: 0.0039\n",
      "Epoch 13/50\n",
      "74/74 [==============================] - 22s 301ms/step - loss: 0.0041\n",
      "Epoch 14/50\n",
      "74/74 [==============================] - 21s 288ms/step - loss: 0.0039\n",
      "Epoch 15/50\n",
      "74/74 [==============================] - 21s 278ms/step - loss: 0.0037\n",
      "Epoch 16/50\n",
      "74/74 [==============================] - 22s 293ms/step - loss: 0.0037\n",
      "Epoch 17/50\n",
      "74/74 [==============================] - 19s 251ms/step - loss: 0.0031\n",
      "Epoch 18/50\n",
      "74/74 [==============================] - 22s 293ms/step - loss: 0.0032\n",
      "Epoch 19/50\n",
      "74/74 [==============================] - 22s 300ms/step - loss: 0.0029\n",
      "Epoch 20/50\n",
      "74/74 [==============================] - 23s 316ms/step - loss: 0.0032\n",
      "Epoch 21/50\n",
      "74/74 [==============================] - 14s 194ms/step - loss: 0.0028\n",
      "Epoch 22/50\n",
      "74/74 [==============================] - 13s 170ms/step - loss: 0.0028\n",
      "Epoch 23/50\n",
      "74/74 [==============================] - 12s 168ms/step - loss: 0.0028\n",
      "Epoch 24/50\n",
      "74/74 [==============================] - 12s 168ms/step - loss: 0.0026\n",
      "Epoch 25/50\n",
      "74/74 [==============================] - 12s 166ms/step - loss: 0.0027\n",
      "Epoch 26/50\n",
      "74/74 [==============================] - 12s 169ms/step - loss: 0.0030\n",
      "Epoch 27/50\n",
      "74/74 [==============================] - 21s 288ms/step - loss: 0.0024\n",
      "Epoch 28/50\n",
      "74/74 [==============================] - 21s 284ms/step - loss: 0.0026\n",
      "Epoch 29/50\n",
      "74/74 [==============================] - 21s 284ms/step - loss: 0.0025\n",
      "Epoch 30/50\n",
      "74/74 [==============================] - 23s 309ms/step - loss: 0.0023\n",
      "Epoch 31/50\n",
      "74/74 [==============================] - 22s 296ms/step - loss: 0.0024\n",
      "Epoch 32/50\n",
      "74/74 [==============================] - 20s 276ms/step - loss: 0.0023\n",
      "Epoch 33/50\n",
      "74/74 [==============================] - 20s 267ms/step - loss: 0.0021\n",
      "Epoch 34/50\n",
      "74/74 [==============================] - 19s 262ms/step - loss: 0.0022\n",
      "Epoch 35/50\n",
      "74/74 [==============================] - 20s 277ms/step - loss: 0.0023\n",
      "Epoch 36/50\n",
      "74/74 [==============================] - 19s 258ms/step - loss: 0.0020\n",
      "Epoch 37/50\n",
      "74/74 [==============================] - 20s 270ms/step - loss: 0.0022\n",
      "Epoch 38/50\n",
      "74/74 [==============================] - 21s 280ms/step - loss: 0.0022\n",
      "Epoch 39/50\n",
      "74/74 [==============================] - 21s 278ms/step - loss: 0.0023\n",
      "Epoch 40/50\n",
      "74/74 [==============================] - 20s 277ms/step - loss: 0.0021\n",
      "Epoch 41/50\n",
      "74/74 [==============================] - 20s 273ms/step - loss: 0.0021\n",
      "Epoch 42/50\n",
      "74/74 [==============================] - 22s 292ms/step - loss: 0.0023\n",
      "Epoch 43/50\n",
      "74/74 [==============================] - 20s 269ms/step - loss: 0.0020\n",
      "Epoch 44/50\n",
      "74/74 [==============================] - 21s 284ms/step - loss: 0.0019\n",
      "Epoch 45/50\n",
      "74/74 [==============================] - 20s 273ms/step - loss: 0.0020\n",
      "Epoch 46/50\n",
      "74/74 [==============================] - 20s 273ms/step - loss: 0.0022\n",
      "Epoch 47/50\n",
      "74/74 [==============================] - 19s 264ms/step - loss: 0.0019\n",
      "Epoch 48/50\n",
      "74/74 [==============================] - 21s 286ms/step - loss: 0.0020\n",
      "Epoch 49/50\n",
      "74/74 [==============================] - 21s 279ms/step - loss: 0.0021\n",
      "Epoch 50/50\n",
      "74/74 [==============================] - 20s 274ms/step - loss: 0.0022\n"
     ]
    },
    {
     "data": {
      "text/plain": [
       "<keras.src.callbacks.History at 0x1af735fafd0>"
      ]
     },
     "execution_count": 24,
     "metadata": {},
     "output_type": "execute_result"
    }
   ],
   "source": [
    "model.compile(optimizer='adam',loss='mean_squared_error')\n",
    "model.fit(x_train, y_train, epochs=50)"
   ]
  },
  {
   "cell_type": "code",
   "execution_count": 73,
   "id": "ccfaa4d0-ab13-47a5-8e45-8696f9582a50",
   "metadata": {},
   "outputs": [],
   "source": [
    "model.save('keras_model.keras')"
   ]
  },
  {
   "cell_type": "code",
   "execution_count": 74,
   "id": "a811e6eb-3948-4852-bf3a-ef9ea1df409d",
   "metadata": {},
   "outputs": [
    {
     "data": {
      "text/html": [
       "<div>\n",
       "<style scoped>\n",
       "    .dataframe tbody tr th:only-of-type {\n",
       "        vertical-align: middle;\n",
       "    }\n",
       "\n",
       "    .dataframe tbody tr th {\n",
       "        vertical-align: top;\n",
       "    }\n",
       "\n",
       "    .dataframe thead th {\n",
       "        text-align: right;\n",
       "    }\n",
       "</style>\n",
       "<table border=\"1\" class=\"dataframe\">\n",
       "  <thead>\n",
       "    <tr style=\"text-align: right;\">\n",
       "      <th></th>\n",
       "      <th>Close</th>\n",
       "    </tr>\n",
       "  </thead>\n",
       "  <tbody>\n",
       "    <tr>\n",
       "      <th>2465</th>\n",
       "      <td>59.102501</td>\n",
       "    </tr>\n",
       "    <tr>\n",
       "      <th>2466</th>\n",
       "      <td>60.127499</td>\n",
       "    </tr>\n",
       "    <tr>\n",
       "      <th>2467</th>\n",
       "      <td>59.990002</td>\n",
       "    </tr>\n",
       "    <tr>\n",
       "      <th>2468</th>\n",
       "      <td>60.794998</td>\n",
       "    </tr>\n",
       "    <tr>\n",
       "      <th>2469</th>\n",
       "      <td>60.895000</td>\n",
       "    </tr>\n",
       "  </tbody>\n",
       "</table>\n",
       "</div>"
      ],
      "text/plain": [
       "          Close\n",
       "2465  59.102501\n",
       "2466  60.127499\n",
       "2467  59.990002\n",
       "2468  60.794998\n",
       "2469  60.895000"
      ]
     },
     "execution_count": 74,
     "metadata": {},
     "output_type": "execute_result"
    }
   ],
   "source": [
    "data_testing.head()"
   ]
  },
  {
   "cell_type": "code",
   "execution_count": 75,
   "id": "e8168ee0-a418-4407-a438-7e4364b1b078",
   "metadata": {},
   "outputs": [],
   "source": [
    "past_100_days = data_training.tail(100)"
   ]
  },
  {
   "cell_type": "code",
   "execution_count": 76,
   "id": "e7642ffc-185a-4ec9-b52a-c76b0d7b809a",
   "metadata": {},
   "outputs": [],
   "source": [
    "final_df = pd.concat([past_100_days, data_testing], ignore_index=True)"
   ]
  },
  {
   "cell_type": "code",
   "execution_count": 77,
   "id": "74ae95d2-faae-43b4-817e-44480f95374d",
   "metadata": {},
   "outputs": [
    {
     "data": {
      "text/html": [
       "<div>\n",
       "<style scoped>\n",
       "    .dataframe tbody tr th:only-of-type {\n",
       "        vertical-align: middle;\n",
       "    }\n",
       "\n",
       "    .dataframe tbody tr th {\n",
       "        vertical-align: top;\n",
       "    }\n",
       "\n",
       "    .dataframe thead th {\n",
       "        text-align: right;\n",
       "    }\n",
       "</style>\n",
       "<table border=\"1\" class=\"dataframe\">\n",
       "  <thead>\n",
       "    <tr style=\"text-align: right;\">\n",
       "      <th></th>\n",
       "      <th>Close</th>\n",
       "    </tr>\n",
       "  </thead>\n",
       "  <tbody>\n",
       "    <tr>\n",
       "      <th>0</th>\n",
       "      <td>44.345001</td>\n",
       "    </tr>\n",
       "    <tr>\n",
       "      <th>1</th>\n",
       "      <td>44.575001</td>\n",
       "    </tr>\n",
       "    <tr>\n",
       "      <th>2</th>\n",
       "      <td>43.767502</td>\n",
       "    </tr>\n",
       "    <tr>\n",
       "      <th>3</th>\n",
       "      <td>43.325001</td>\n",
       "    </tr>\n",
       "    <tr>\n",
       "      <th>4</th>\n",
       "      <td>44.910000</td>\n",
       "    </tr>\n",
       "  </tbody>\n",
       "</table>\n",
       "</div>"
      ],
      "text/plain": [
       "       Close\n",
       "0  44.345001\n",
       "1  44.575001\n",
       "2  43.767502\n",
       "3  43.325001\n",
       "4  44.910000"
      ]
     },
     "execution_count": 77,
     "metadata": {},
     "output_type": "execute_result"
    }
   ],
   "source": [
    "final_df.head()"
   ]
  },
  {
   "cell_type": "code",
   "execution_count": 78,
   "id": "56a812c2-e4e2-4036-949a-a5c0b9b078fc",
   "metadata": {},
   "outputs": [
    {
     "data": {
      "text/plain": [
       "array([[0.00658979],\n",
       "       [0.00807572],\n",
       "       [0.00285881],\n",
       "       ...,\n",
       "       [0.96795551],\n",
       "       [0.97073361],\n",
       "       [0.96394998]])"
      ]
     },
     "execution_count": 78,
     "metadata": {},
     "output_type": "execute_result"
    }
   ],
   "source": [
    "input_data = scaler.fit_transform(final_df)\n",
    "input_data"
   ]
  },
  {
   "cell_type": "code",
   "execution_count": 79,
   "id": "462a0003-34b8-46c1-b715-7399738dbcbc",
   "metadata": {},
   "outputs": [
    {
     "data": {
      "text/plain": [
       "(1157, 1)"
      ]
     },
     "execution_count": 79,
     "metadata": {},
     "output_type": "execute_result"
    }
   ],
   "source": [
    "input_data.shape"
   ]
  },
  {
   "cell_type": "code",
   "execution_count": 80,
   "id": "21920297-2c9d-48cf-a1d4-8c3fcc5b1c78",
   "metadata": {},
   "outputs": [],
   "source": [
    "x_test = []\n",
    "y_test = []\n",
    "\n",
    "for i in range(100, input_data.shape[0]):\n",
    "    x_test.append(input_data[i-100:i])\n",
    "    y_test.append(input_data[i,0])\n",
    "\n"
   ]
  },
  {
   "cell_type": "code",
   "execution_count": 81,
   "id": "5b9ce254-743d-45bc-b43d-cac72c88f48c",
   "metadata": {},
   "outputs": [
    {
     "name": "stdout",
     "output_type": "stream",
     "text": [
      "(1057, 100, 1)\n",
      "(1057,)\n"
     ]
    }
   ],
   "source": [
    "x_test, y_test = np.array(x_test), np.array(y_test)\n",
    "print(x_test.shape)\n",
    "print(y_test.shape)"
   ]
  },
  {
   "cell_type": "code",
   "execution_count": 82,
   "id": "63db524f-f0ea-4b61-bd45-e99e1d49cd91",
   "metadata": {},
   "outputs": [
    {
     "name": "stdout",
     "output_type": "stream",
     "text": [
      "34/34 [==============================] - 5s 152ms/step\n"
     ]
    }
   ],
   "source": [
    "#Making Predictions\n",
    "\n",
    "y_predicted = model.predict(x_test)"
   ]
  },
  {
   "cell_type": "code",
   "execution_count": 83,
   "id": "b64c5feb-3eb1-4e6a-98d7-262c73d97e49",
   "metadata": {},
   "outputs": [
    {
     "data": {
      "text/plain": [
       "(1057, 1)"
      ]
     },
     "execution_count": 83,
     "metadata": {},
     "output_type": "execute_result"
    }
   ],
   "source": [
    "y_predicted.shape"
   ]
  },
  {
   "cell_type": "code",
   "execution_count": 84,
   "id": "b8415eef-bb6e-486c-8cb7-8d4e92e4c95f",
   "metadata": {},
   "outputs": [
    {
     "data": {
      "text/plain": [
       "array([0.10193171, 0.10855379, 0.10766548, ..., 0.96795551, 0.97073361,\n",
       "       0.96394998])"
      ]
     },
     "execution_count": 84,
     "metadata": {},
     "output_type": "execute_result"
    }
   ],
   "source": [
    "y_test"
   ]
  },
  {
   "cell_type": "code",
   "execution_count": 85,
   "id": "387858e5-40ad-4a5b-a099-40ff693d1d68",
   "metadata": {},
   "outputs": [
    {
     "data": {
      "text/plain": [
       "array([[0.14709991],\n",
       "       [0.14837492],\n",
       "       [0.14969902],\n",
       "       ...,\n",
       "       [0.93270195],\n",
       "       [0.92995983],\n",
       "       [0.92707604]], dtype=float32)"
      ]
     },
     "execution_count": 85,
     "metadata": {},
     "output_type": "execute_result"
    }
   ],
   "source": [
    "y_predicted"
   ]
  },
  {
   "cell_type": "code",
   "execution_count": 86,
   "id": "f80033e7-6c83-4c0e-bc10-c466f9533752",
   "metadata": {},
   "outputs": [
    {
     "data": {
      "text/plain": [
       "array([0.00646057])"
      ]
     },
     "execution_count": 86,
     "metadata": {},
     "output_type": "execute_result"
    }
   ],
   "source": [
    "scaler.scale_"
   ]
  },
  {
   "cell_type": "code",
   "execution_count": 87,
   "id": "f9072ef4-7551-40ad-892f-60272ad4fed8",
   "metadata": {},
   "outputs": [],
   "source": [
    "scale_factor = 1/0.00646057\n",
    "y_predicted = y_predicted * scale_factor\n",
    "y_test = y_test * scale_factor"
   ]
  },
  {
   "cell_type": "code",
   "execution_count": 88,
   "id": "1ec1eb78-af7a-43cd-b5f1-3c2a2ac7724c",
   "metadata": {},
   "outputs": [
    {
     "data": {
      "image/png": "[encoded data removed]",
      "text/plain": [
       "<Figure size 1200x600 with 1 Axes>"
      ]
     },
     "metadata": {},
     "output_type": "display_data"
    }
   ],
   "source": [
    "plt.figure(figsize=(12,6))\n",
    "plt.plot(y_test,'b',label=\"Original Price\")\n",
    "plt.plot(y_predicted,'r',label='Predicted Price')\n",
    "plt.xlabel('Time')\n",
    "plt.ylabel('Price')\n",
    "plt.legend()\n",
    "plt.show()"
   ]
  },
  {
   "cell_type": "code",
   "execution_count": null,
   "id": "80e967de-b88b-4ff5-b586-d0055a04b203",
   "metadata": {},
   "outputs": [],
   "source": []
  }
 ],
 "metadata": {
  "kernelspec": {
   "display_name": "Python 3 (ipykernel)",
   "language": "python",
   "name": "python3"
  },
  "language_info": {
   "codemirror_mode": {
    "name": "ipython",
    "version": 3
   },
   "file_extension": ".py",
   "mimetype": "text/x-python",
   "name": "python",
   "nbconvert_exporter": "python",
   "pygments_lexer": "ipython3",
   "version": "3.11.5"
  }
 },
 "nbformat": 4,
 "nbformat_minor": 5
}
